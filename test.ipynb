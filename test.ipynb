{
 "cells": [
  {
   "cell_type": "code",
   "execution_count": 2,
   "metadata": {},
   "outputs": [],
   "source": [
    "import torch\n",
    "import numpy as np"
   ]
  },
  {
   "cell_type": "code",
   "execution_count": 3,
   "metadata": {},
   "outputs": [
    {
     "data": {
      "text/plain": [
       "array(['push_side', 'push_top', 'push_front'], dtype='<U10')"
      ]
     },
     "execution_count": 3,
     "metadata": {},
     "output_type": "execute_result"
    }
   ],
   "source": [
    "action_names = np.load('data/action_names.npy')\n",
    "action_names"
   ]
  },
  {
   "cell_type": "code",
   "execution_count": 4,
   "metadata": {},
   "outputs": [
    {
     "data": {
      "text/plain": [
       "tensor([[ 1., -1., -1.],\n",
       "        [ 1., -1., -1.],\n",
       "        [ 1., -1., -1.],\n",
       "        ...,\n",
       "        [-1., -1.,  1.],\n",
       "        [-1., -1.,  1.],\n",
       "        [-1., -1.,  1.]])"
      ]
     },
     "execution_count": 4,
     "metadata": {},
     "output_type": "execute_result"
    }
   ],
   "source": [
    "action = torch.load('data/img/action.pt')\n",
    "action"
   ]
  },
  {
   "cell_type": "code",
   "execution_count": 5,
   "metadata": {},
   "outputs": [
    {
     "data": {
      "text/plain": [
       "torch.Size([2400, 3])"
      ]
     },
     "execution_count": 5,
     "metadata": {},
     "output_type": "execute_result"
    }
   ],
   "source": [
    "action.shape"
   ]
  },
  {
   "cell_type": "code",
   "execution_count": 6,
   "metadata": {},
   "outputs": [
    {
     "data": {
      "text/plain": [
       "tensor([[[0.2818, 0.2818, 0.2818,  ..., 0.2818, 0.2818, 0.2818],\n",
       "         [0.2818, 0.2818, 0.2818,  ..., 0.2818, 0.2818, 0.2818],\n",
       "         [0.2818, 0.2818, 0.2818,  ..., 0.2818, 0.2818, 0.2818],\n",
       "         ...,\n",
       "         [0.2818, 0.2818, 0.2818,  ..., 0.2818, 0.2818, 0.2818],\n",
       "         [0.2818, 0.2818, 0.2818,  ..., 0.2818, 0.2818, 0.2818],\n",
       "         [0.2818, 0.2818, 0.2818,  ..., 0.2818, 0.2818, 0.2818]],\n",
       "\n",
       "        [[0.2818, 0.2818, 0.2818,  ..., 0.2818, 0.2818, 0.2818],\n",
       "         [0.2818, 0.2818, 0.2818,  ..., 0.2818, 0.2818, 0.2818],\n",
       "         [0.2818, 0.2818, 0.2818,  ..., 0.2818, 0.2818, 0.2818],\n",
       "         ...,\n",
       "         [0.2818, 0.2818, 0.2818,  ..., 0.2818, 0.2818, 0.2818],\n",
       "         [0.2818, 0.2818, 0.2818,  ..., 0.2818, 0.2818, 0.2818],\n",
       "         [0.2818, 0.2818, 0.2818,  ..., 0.2818, 0.2818, 0.2818]],\n",
       "\n",
       "        [[0.2818, 0.2818, 0.2818,  ..., 0.2818, 0.2818, 0.2818],\n",
       "         [0.2818, 0.2818, 0.2818,  ..., 0.2818, 0.2818, 0.2818],\n",
       "         [0.2818, 0.2818, 0.2818,  ..., 0.2818, 0.2818, 0.2818],\n",
       "         ...,\n",
       "         [0.2818, 0.2818, 0.2818,  ..., 0.2818, 0.2818, 0.2818],\n",
       "         [0.2818, 0.2818, 0.2818,  ..., 0.2818, 0.2818, 0.2818],\n",
       "         [0.2818, 0.2818, 0.2818,  ..., 0.2818, 0.2818, 0.2818]],\n",
       "\n",
       "        ...,\n",
       "\n",
       "        [[0.2818, 0.2818, 0.2818,  ..., 0.2818, 0.2818, 0.2818],\n",
       "         [0.2818, 0.2818, 0.2818,  ..., 0.2818, 0.2818, 0.2818],\n",
       "         [0.2818, 0.2818, 0.2818,  ..., 0.2818, 0.2818, 0.2818],\n",
       "         ...,\n",
       "         [0.2818, 0.2818, 0.2818,  ..., 0.2818, 0.2818, 0.2818],\n",
       "         [0.2818, 0.2818, 0.2818,  ..., 0.2818, 0.2818, 0.2818],\n",
       "         [0.2818, 0.2818, 0.2818,  ..., 0.2818, 0.2818, 0.2818]],\n",
       "\n",
       "        [[0.2818, 0.2818, 0.2818,  ..., 0.2818, 0.2818, 0.2818],\n",
       "         [0.2818, 0.2818, 0.2818,  ..., 0.2818, 0.2818, 0.2818],\n",
       "         [0.2818, 0.2818, 0.2818,  ..., 0.2818, 0.2818, 0.2818],\n",
       "         ...,\n",
       "         [0.2818, 0.2818, 0.2818,  ..., 0.2818, 0.2818, 0.2818],\n",
       "         [0.2818, 0.2818, 0.2818,  ..., 0.2818, 0.2818, 0.2818],\n",
       "         [0.2818, 0.2818, 0.2818,  ..., 0.2818, 0.2818, 0.2818]],\n",
       "\n",
       "        [[0.2818, 0.2818, 0.2818,  ..., 0.2818, 0.2818, 0.2818],\n",
       "         [0.2818, 0.2818, 0.2818,  ..., 0.2818, 0.2818, 0.2818],\n",
       "         [0.2818, 0.2818, 0.2818,  ..., 0.2818, 0.2818, 0.2818],\n",
       "         ...,\n",
       "         [0.2818, 0.2818, 0.2818,  ..., 0.2818, 0.2818, 0.2818],\n",
       "         [0.2818, 0.2818, 0.2818,  ..., 0.2818, 0.2818, 0.2818],\n",
       "         [0.2818, 0.2818, 0.2818,  ..., 0.2818, 0.2818, 0.2818]]])"
      ]
     },
     "execution_count": 6,
     "metadata": {},
     "output_type": "execute_result"
    }
   ],
   "source": [
    "obs_prev_z = torch.load('data/img/obs_prev_z.pt')\n",
    "obs_prev_z"
   ]
  },
  {
   "cell_type": "code",
   "execution_count": 7,
   "metadata": {},
   "outputs": [
    {
     "data": {
      "text/plain": [
       "torch.Size([2400, 42, 42])"
      ]
     },
     "execution_count": 7,
     "metadata": {},
     "output_type": "execute_result"
    }
   ],
   "source": [
    "obs_prev_z.shape"
   ]
  },
  {
   "cell_type": "code",
   "execution_count": 20,
   "metadata": {},
   "outputs": [
    {
     "data": {
      "text/plain": [
       "torch.Size([2400, 1, 42, 42])"
      ]
     },
     "execution_count": 20,
     "metadata": {},
     "output_type": "execute_result"
    }
   ],
   "source": [
    "obs_prev_z.unsqueeze(1).shape"
   ]
  },
  {
   "cell_type": "code",
   "execution_count": 8,
   "metadata": {},
   "outputs": [
    {
     "data": {
      "text/plain": [
       "torch.Size([42, 42])"
      ]
     },
     "execution_count": 8,
     "metadata": {},
     "output_type": "execute_result"
    }
   ],
   "source": [
    "obs_prev_z[0].shape"
   ]
  },
  {
   "cell_type": "code",
   "execution_count": 9,
   "metadata": {},
   "outputs": [
    {
     "data": {
      "text/plain": [
       "torch.Size([2400, 1764])"
      ]
     },
     "execution_count": 9,
     "metadata": {},
     "output_type": "execute_result"
    }
   ],
   "source": [
    "obs_prev_z.flatten(start_dim=1).shape"
   ]
  },
  {
   "cell_type": "code",
   "execution_count": 10,
   "metadata": {},
   "outputs": [
    {
     "data": {
      "text/plain": [
       "array(['sphere_9', 'hollow_2', 'cylinderside_9', 'hollow_6', 'cylinder_8',\n",
       "       'cylinderside_2', 'cylinderside_4', 'sphere_3', 'sphere_6',\n",
       "       'hollow_5', 'cylinderside_6', 'hollow_3', 'cylinder_2', 'cube_3',\n",
       "       'cylinder_6', 'cylinder_9', 'cylinderside_1', 'cube_4',\n",
       "       'cylinderside_7', 'hollow_1', 'cube_2', 'cube_8', 'cylinder_1',\n",
       "       'cylinder_5', 'hollow_4', 'cylinderside_5', 'cube_9', 'cube_0',\n",
       "       'cylinder_4', 'hollow_7', 'cube_7', 'cube_5', 'cube_6', 'sphere_2',\n",
       "       'hollow_8', 'cube_1', 'sphere_4', 'cylinderside_3', 'hollow_9',\n",
       "       'sphere_0', 'sphere_7', 'sphere_8', 'cylinderside_0', 'sphere_5',\n",
       "       'hollow_0', 'cylinder_0', 'cylinder_3', 'cylinder_7', 'sphere_1',\n",
       "       'cylinderside_8'], dtype='<U14')"
      ]
     },
     "execution_count": 10,
     "metadata": {},
     "output_type": "execute_result"
    }
   ],
   "source": [
    "obj_names = np.load('data/obj_names.npy')\n",
    "obj_names"
   ]
  },
  {
   "cell_type": "code",
   "execution_count": 11,
   "metadata": {},
   "outputs": [
    {
     "data": {
      "text/plain": [
       "tensor([[12.0000, -1.0000, 27.4719],\n",
       "        [12.0000, -1.0000, 27.4719],\n",
       "        [12.0000, -1.0000, 27.4719],\n",
       "        ...,\n",
       "        [-1.0000, 32.0000, 18.3615],\n",
       "        [-1.0000, 32.0000, 18.3615],\n",
       "        [-1.0000, 32.0000, 18.3615]])"
      ]
     },
     "execution_count": 11,
     "metadata": {},
     "output_type": "execute_result"
    }
   ],
   "source": [
    "delta_pix_1 = torch.load('data/img/delta_pix_1.pt')\n",
    "delta_pix_1"
   ]
  },
  {
   "cell_type": "code",
   "execution_count": 12,
   "metadata": {},
   "outputs": [
    {
     "data": {
      "text/plain": [
       "torch.Size([2400, 3])"
      ]
     },
     "execution_count": 12,
     "metadata": {},
     "output_type": "execute_result"
    }
   ],
   "source": [
    "delta_pix_1.shape"
   ]
  },
  {
   "cell_type": "code",
   "execution_count": 13,
   "metadata": {},
   "outputs": [
    {
     "data": {
      "text/plain": [
       "tensor([[12.0000, -1.0000, 27.4719],\n",
       "        [12.0000, -1.0000, 27.4719],\n",
       "        [12.0000, -1.0000, 27.4719],\n",
       "        ...,\n",
       "        [-1.0000, 32.0000, 18.3615],\n",
       "        [-1.0000, 32.0000, 18.3615],\n",
       "        [-1.0000, 32.0000, 18.3615]])"
      ]
     },
     "execution_count": 13,
     "metadata": {},
     "output_type": "execute_result"
    }
   ],
   "source": [
    "delta_pix_3= torch.load('data/img/delta_pix_1.pt')\n",
    "delta_pix_3"
   ]
  },
  {
   "cell_type": "code",
   "execution_count": 16,
   "metadata": {},
   "outputs": [
    {
     "data": {
      "text/plain": [
       "torch.Size([2400, 3])"
      ]
     },
     "execution_count": 16,
     "metadata": {},
     "output_type": "execute_result"
    }
   ],
   "source": [
    "delta_pix_3.shape"
   ]
  }
 ],
 "metadata": {
  "kernelspec": {
   "display_name": "cmpe591",
   "language": "python",
   "name": "python3"
  },
  "language_info": {
   "codemirror_mode": {
    "name": "ipython",
    "version": 3
   },
   "file_extension": ".py",
   "mimetype": "text/x-python",
   "name": "python",
   "nbconvert_exporter": "python",
   "pygments_lexer": "ipython3",
   "version": "3.9.18"
  }
 },
 "nbformat": 4,
 "nbformat_minor": 2
}
